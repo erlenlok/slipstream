{
 "cells": [
  {
   "cell_type": "markdown",
   "id": "header",
   "metadata": {},
   "source": [
    "# Idiosyncratic Momentum Panel Testing\n",
    "\n",
    "This notebook tests the EWMA-based idiosyncratic momentum indicators from `src/slipstream/signals/`.\n",
    "\n",
    "**Key Features:**\n",
    "- Computes momentum panel with multiple EWMA spans (idio_mom_2, idio_mom_4, idio_mom_8, etc.)\n",
    "- EWMA provides exponentially-weighted momentum vs. simple rolling sums\n",
    "- Multi-timescale analysis for feature engineering\n",
    "\n",
    "**Objectives:**\n",
    "1. Compute momentum panel for multiple spans\n",
    "2. Visualize momentum at different timescales\n",
    "3. Analyze cross-timescale momentum patterns\n",
    "4. Export momentum features for modeling"
   ]
  },
  {
   "cell_type": "code",
   "execution_count": 1,
   "id": "imports",
   "metadata": {},
   "outputs": [
    {
     "name": "stdout",
     "output_type": "stream",
     "text": [
      "✓ Imports successful\n"
     ]
    }
   ],
   "source": [
    "import sys\n",
    "import pandas as pd\n",
    "import numpy as np\n",
    "import matplotlib.pyplot as plt\n",
    "import seaborn as sns\n",
    "from pathlib import Path\n",
    "\n",
    "# Add project root to path\n",
    "project_root = Path.cwd().parent\n",
    "sys.path.insert(0, str(project_root / 'src'))\n",
    "\n",
    "# Import signal functions\n",
    "from slipstream.signals import (\n",
    "    idiosyncratic_momentum,\n",
    "    compute_idiosyncratic_returns,\n",
    "    normalize_signal_cross_sectional,\n",
    ")\n",
    "\n",
    "# Plotting setup\n",
    "sns.set_style('darkgrid')\n",
    "plt.rcParams['figure.figsize'] = (14, 6)\n",
    "\n",
    "print(\"✓ Imports successful\")"
   ]
  },
  {
   "cell_type": "markdown",
   "id": "data-loading-header",
   "metadata": {},
   "source": [
    "## 1. Data Loading"
   ]
  },
  {
   "cell_type": "code",
   "execution_count": null,
   "id": "load-data",
   "metadata": {},
   "outputs": [],
   "source": "def load_all_returns(data_dir='../data/market_data'):\n    \"\"\"Load all candle files and compute log returns.\"\"\"\n    data_path = Path(data_dir)\n    candle_files = sorted(data_path.glob('*_candles_1h.csv'))\n    \n    returns_dict = {}\n    \n    for file in candle_files:\n        coin = file.stem.replace('_candles_1h', '')\n        df = pd.read_csv(file)\n        \n        # Handle different timestamp column names\n        if 'datetime' in df.columns:\n            df['timestamp'] = pd.to_datetime(df['datetime'])\n        elif 'timestamp' in df.columns:\n            df['timestamp'] = pd.to_datetime(df['timestamp'])\n        else:\n            continue\n        \n        # Compute log returns from close prices\n        df = df.set_index('timestamp').sort_index()\n        if 'close' in df.columns:\n            log_returns = np.log(df['close'] / df['close'].shift(1))\n            returns_dict[coin] = log_returns\n    \n    returns_df = pd.DataFrame(returns_dict)\n    returns_df = returns_df.sort_index()\n    \n    print(f\"Loaded returns for {len(returns_df.columns)} assets\")\n    print(f\"Date range: {returns_df.index.min()} to {returns_df.index.max()}\")\n    print(f\"Shape: {returns_df.shape}\")\n    print(f\"NaN percentage: {(returns_df.isna().sum().sum() / returns_df.size * 100):.2f}%\")\n    \n    return returns_df\n\ndef load_pca_factor(H=24, K=30, weight_method='dollar', features_dir='../data/features'):\n    \"\"\"Load PCA factor file.\"\"\"\n    features_path = Path(features_dir)\n    filename = f'pca_factor_H{H}_K{K}_{weight_method}.csv'\n    filepath = features_path / filename\n    \n    if not filepath.exists():\n        raise FileNotFoundError(f\"PCA factor file not found: {filepath}\")\n    \n    pca_data = pd.read_csv(filepath)\n    pca_data['timestamp'] = pd.to_datetime(pca_data['timestamp'])\n    \n    loadings_long = pca_data.set_index(['timestamp', 'asset'])['loading']\n    \n    if 'market_return' in pca_data.columns:\n        market_factor = pca_data.groupby('timestamp')['market_return'].first()\n    else:\n        market_factor = pd.Series(0, index=pca_data['timestamp'].unique())\n        print(\"Warning: market_return not found, using zeros\")\n    \n    print(f\"Loaded PCA factor: H={H}, K={K}, method={weight_method}\")\n    print(f\"Assets: {pca_data['asset'].nunique()}, Timestamps: {pca_data['timestamp'].nunique()}\")\n    \n    return loadings_long, market_factor, pca_data\n\n# Load data\nreturns = load_all_returns()\nloadings_24h, market_24h, pca_df_24h = load_pca_factor(H=24, K=30, weight_method='dollar')"
  },
  {
   "cell_type": "markdown",
   "id": "momentum-computation-header",
   "metadata": {},
   "source": [
    "## 2. Compute Momentum Panel\n",
    "\n",
    "Compute idiosyncratic momentum at multiple EWMA spans."
   ]
  },
  {
   "cell_type": "code",
   "execution_count": null,
   "id": "compute-momentum",
   "metadata": {},
   "outputs": [],
   "source": [
    "# Compute momentum panel with multiple spans\n",
    "momentum_panel = idiosyncratic_momentum(\n",
    "    returns=returns,\n",
    "    pca_loadings=loadings_24h,\n",
    "    market_factor=market_24h,\n",
    "    spans=[2, 4, 8, 16, 32, 64],  # Multi-timescale momentum\n",
    "    normalization='volatility'\n",
    ")\n",
    "\n",
    "print(f\"Momentum panel shape: {momentum_panel.shape}\")\n",
    "print(f\"Index levels: {momentum_panel.index.names}\")\n",
    "print(f\"\\nAvailable spans: {sorted(momentum_panel.index.get_level_values('span').unique())}\")\n",
    "print(f\"\\nSummary stats:\")\n",
    "print(momentum_panel['momentum'].describe())\n",
    "\n",
    "momentum_panel.head(20)"
   ]
  },
  {
   "cell_type": "code",
   "execution_count": null,
   "id": "inspect-spans",
   "metadata": {},
   "outputs": [],
   "source": [
    "# Inspect each span separately\n",
    "for span in [2, 4, 8, 16, 32, 64]:\n",
    "    mom_span = momentum_panel.xs(span, level='span')\n",
    "    print(f\"\\nidio_mom_{span}: {len(mom_span)} observations\")\n",
    "    print(f\"  Mean: {mom_span['momentum'].mean():.6f}\")\n",
    "    print(f\"  Std:  {mom_span['momentum'].std():.4f}\")\n",
    "    print(f\"  Min:  {mom_span['momentum'].min():.4f}\")\n",
    "    print(f\"  Max:  {mom_span['momentum'].max():.4f}\")"
   ]
  },
  {
   "cell_type": "markdown",
   "id": "visualization-header",
   "metadata": {},
   "source": [
    "## 3. Visualize Multi-Timescale Momentum\n",
    "\n",
    "Compare momentum signals at different EWMA spans for sample assets."
   ]
  },
  {
   "cell_type": "code",
   "execution_count": null,
   "id": "plot-multi-timescale",
   "metadata": {},
   "outputs": [],
   "source": [
    "# Select sample assets\n",
    "sample_assets = ['BTC', 'ETH', 'SOL']\n",
    "available_assets = [a for a in sample_assets if a in momentum_panel.index.get_level_values('asset').unique()]\n",
    "\n",
    "if not available_assets:\n",
    "    available_assets = momentum_panel.index.get_level_values('asset').unique()[:3]\n",
    "\n",
    "# Plot momentum for each asset across all spans\n",
    "fig, axes = plt.subplots(len(available_assets), 1, figsize=(14, 4 * len(available_assets)))\n",
    "\n",
    "if len(available_assets) == 1:\n",
    "    axes = [axes]\n",
    "\n",
    "spans = sorted(momentum_panel.index.get_level_values('span').unique())\n",
    "colors = plt.cm.viridis(np.linspace(0, 1, len(spans)))\n",
    "\n",
    "for i, asset in enumerate(available_assets):\n",
    "    for span, color in zip(spans, colors):\n",
    "        # Extract momentum for this asset and span\n",
    "        mom_data = momentum_panel.xs((asset, span), level=('asset', 'span'))\n",
    "        \n",
    "        axes[i].plot(\n",
    "            mom_data.index,\n",
    "            mom_data['momentum'],\n",
    "            label=f'span={span}',\n",
    "            alpha=0.7,\n",
    "            linewidth=1.5,\n",
    "            color=color\n",
    "        )\n",
    "    \n",
    "    axes[i].axhline(0, color='red', linestyle='--', linewidth=1)\n",
    "    axes[i].set_title(f'{asset} - Idiosyncratic Momentum Across Timescales')\n",
    "    axes[i].set_ylabel('Momentum')\n",
    "    axes[i].legend(loc='upper right')\n",
    "    axes[i].grid(True, alpha=0.3)\n",
    "\n",
    "axes[-1].set_xlabel('Date')\n",
    "plt.tight_layout()\n",
    "plt.show()"
   ]
  },
  {
   "cell_type": "markdown",
   "id": "comparison-header",
   "metadata": {},
   "source": [
    "## 4. Fast vs Slow Momentum Comparison\n",
    "\n",
    "Compare fast momentum (span=2) vs slow momentum (span=32) for regime detection."
   ]
  },
  {
   "cell_type": "code",
   "execution_count": null,
   "id": "fast-slow-comparison",
   "metadata": {},
   "outputs": [],
   "source": [
    "# Extract fast and slow momentum\n",
    "mom_fast = momentum_panel.xs(2, level='span')['momentum'].unstack(level='asset')\n",
    "mom_slow = momentum_panel.xs(32, level='span')['momentum'].unstack(level='asset')\n",
    "\n",
    "# Plot for sample assets\n",
    "fig, axes = plt.subplots(len(available_assets), 1, figsize=(14, 4 * len(available_assets)))\n",
    "\n",
    "if len(available_assets) == 1:\n",
    "    axes = [axes]\n",
    "\n",
    "for i, asset in enumerate(available_assets):\n",
    "    if asset in mom_fast.columns and asset in mom_slow.columns:\n",
    "        axes[i].plot(mom_fast.index, mom_fast[asset], label='Fast (span=2)', linewidth=1.5, alpha=0.8)\n",
    "        axes[i].plot(mom_slow.index, mom_slow[asset], label='Slow (span=32)', linewidth=2, alpha=0.8)\n",
    "        axes[i].axhline(0, color='red', linestyle='--', linewidth=1)\n",
    "        \n",
    "        # Highlight fast > slow regions (bullish crossover)\n",
    "        crossover = mom_fast[asset] > mom_slow[asset]\n",
    "        axes[i].fill_between(\n",
    "            mom_fast.index,\n",
    "            mom_fast[asset].min(),\n",
    "            mom_fast[asset].max(),\n",
    "            where=crossover,\n",
    "            alpha=0.2,\n",
    "            color='green',\n",
    "            label='Fast > Slow'\n",
    "        )\n",
    "        \n",
    "        axes[i].set_title(f'{asset} - Fast vs Slow Momentum')\n",
    "        axes[i].set_ylabel('Momentum')\n",
    "        axes[i].legend()\n",
    "        axes[i].grid(True, alpha=0.3)\n",
    "\n",
    "axes[-1].set_xlabel('Date')\n",
    "plt.tight_layout()\n",
    "plt.show()"
   ]
  },
  {
   "cell_type": "markdown",
   "id": "cross-sectional-header",
   "metadata": {},
   "source": [
    "## 5. Cross-Sectional Analysis\n",
    "\n",
    "Analyze momentum distribution across assets at a specific timestamp."
   ]
  },
  {
   "cell_type": "code",
   "execution_count": null,
   "id": "cross-sectional",
   "metadata": {},
   "outputs": [],
   "source": [
    "# Get most recent timestamp\n",
    "recent_ts = momentum_panel.index.get_level_values('timestamp').max()\n",
    "\n",
    "# Extract cross-section for each span\n",
    "fig, axes = plt.subplots(2, 3, figsize=(15, 10))\n",
    "axes = axes.flatten()\n",
    "\n",
    "spans = sorted(momentum_panel.index.get_level_values('span').unique())\n",
    "\n",
    "for i, span in enumerate(spans):\n",
    "    cross_section = momentum_panel.xs((recent_ts, span), level=('timestamp', 'span'))['momentum']\n",
    "    cross_section = cross_section.sort_values(ascending=False)\n",
    "    \n",
    "    axes[i].hist(cross_section.values, bins=50, alpha=0.7, edgecolor='black')\n",
    "    axes[i].axvline(0, color='red', linestyle='--', linewidth=2)\n",
    "    axes[i].set_title(f'idio_mom_{span} Distribution\\n{recent_ts}')\n",
    "    axes[i].set_xlabel('Momentum')\n",
    "    axes[i].set_ylabel('Count')\n",
    "    axes[i].text(\n",
    "        0.05, 0.95,\n",
    "        f'Mean: {cross_section.mean():.3f}\\nStd: {cross_section.std():.3f}',\n",
    "        transform=axes[i].transAxes,\n",
    "        verticalalignment='top',\n",
    "        bbox=dict(boxstyle='round', facecolor='wheat', alpha=0.5)\n",
    "    )\n",
    "\n",
    "plt.tight_layout()\n",
    "plt.show()"
   ]
  },
  {
   "cell_type": "markdown",
   "id": "correlation-header",
   "metadata": {},
   "source": [
    "## 6. Momentum Span Correlation Analysis\n",
    "\n",
    "Analyze correlation structure between different momentum timescales."
   ]
  },
  {
   "cell_type": "code",
   "execution_count": null,
   "id": "span-correlation",
   "metadata": {},
   "outputs": [],
   "source": [
    "# Create wide format with spans as columns for a sample asset\n",
    "sample_asset = available_assets[0]\n",
    "\n",
    "# Extract all spans for this asset\n",
    "asset_momentum = momentum_panel.xs(sample_asset, level='asset')['momentum'].unstack(level='span')\n",
    "asset_momentum.columns = [f'span_{s}' for s in asset_momentum.columns]\n",
    "\n",
    "# Compute correlation matrix\n",
    "corr_matrix = asset_momentum.corr()\n",
    "\n",
    "# Plot heatmap\n",
    "fig, ax = plt.subplots(figsize=(10, 8))\n",
    "sns.heatmap(\n",
    "    corr_matrix,\n",
    "    annot=True,\n",
    "    fmt='.3f',\n",
    "    cmap='coolwarm',\n",
    "    center=0,\n",
    "    square=True,\n",
    "    ax=ax,\n",
    "    cbar_kws={'label': 'Correlation'}\n",
    ")\n",
    "ax.set_title(f'Momentum Span Correlation Matrix - {sample_asset}')\n",
    "plt.tight_layout()\n",
    "plt.show()\n",
    "\n",
    "print(\"\\nCorrelation insights:\")\n",
    "print(\"- High correlation between adjacent spans (expected)\")\n",
    "print(\"- Lower correlation between fast and slow spans (regime shifts)\")\n",
    "print(\"- Can be used for feature selection/regularization\")"
   ]
  },
  {
   "cell_type": "markdown",
   "id": "pivot-header",
   "metadata": {},
   "source": [
    "## 7. Convert to Wide Format for Modeling\n",
    "\n",
    "Pivot momentum panel into wide format suitable for ML models."
   ]
  },
  {
   "cell_type": "code",
   "execution_count": null,
   "id": "pivot-wide",
   "metadata": {},
   "outputs": [],
   "source": [
    "# Pivot to wide format: (timestamp, asset) -> features\n",
    "momentum_wide = momentum_panel['momentum'].unstack(level='span')\n",
    "momentum_wide.columns = [f'idio_mom_{s}' for s in momentum_wide.columns]\n",
    "\n",
    "print(f\"Wide momentum panel shape: {momentum_wide.shape}\")\n",
    "print(f\"Columns: {list(momentum_wide.columns)}\")\n",
    "print(f\"\\nSample:\")\n",
    "print(momentum_wide.head(10))\n",
    "\n",
    "# Check for NaN coverage\n",
    "print(f\"\\nNaN percentage per feature:\")\n",
    "print((momentum_wide.isna().sum() / len(momentum_wide) * 100).round(2))"
   ]
  },
  {
   "cell_type": "markdown",
   "id": "export-header",
   "metadata": {},
   "source": [
    "## 8. Export Features\n",
    "\n",
    "Save momentum panel for use in modeling notebooks."
   ]
  },
  {
   "cell_type": "code",
   "execution_count": null,
   "id": "export",
   "metadata": {},
   "outputs": [],
   "source": [
    "# Export both long and wide formats\n",
    "output_dir = Path('../data/features')\n",
    "\n",
    "# Long format (timestamp, asset, span)\n",
    "momentum_panel.reset_index().to_parquet(\n",
    "    output_dir / 'momentum_panel_long.parquet',\n",
    "    index=False\n",
    ")\n",
    "\n",
    "# Wide format (timestamp, asset) with feature columns\n",
    "momentum_wide.reset_index().to_parquet(\n",
    "    output_dir / 'momentum_panel_wide.parquet',\n",
    "    index=True\n",
    ")\n",
    "\n",
    "print(f\"✓ Exported momentum features to {output_dir}\")\n",
    "print(f\"  - momentum_panel_long.parquet ({momentum_panel.shape})\")\n",
    "print(f\"  - momentum_panel_wide.parquet ({momentum_wide.shape})\")"
   ]
  },
  {
   "cell_type": "markdown",
   "id": "summary-header",
   "metadata": {},
   "source": [
    "## Summary\n",
    "\n",
    "**Momentum Panel Created:**\n",
    "- ✓ Multi-timescale EWMA momentum (spans: 2, 4, 8, 16, 32, 64)\n",
    "- ✓ Volatility-normalized for comparability\n",
    "- ✓ Panel structure: (timestamp, asset, span)\n",
    "- ✓ Exported in both long and wide formats\n",
    "\n",
    "**Next Steps:**\n",
    "1. Use momentum panel as features for return prediction model\n",
    "2. Test predictive power of each span\n",
    "3. Combine with other features (funding rates, volume, etc.)\n",
    "4. Train models for different holding periods H\n",
    "5. Implement portfolio construction with predicted alphas"
   ]
  }
 ],
 "metadata": {
  "kernelspec": {
   "display_name": ".venv",
   "language": "python",
   "name": "python3"
  },
  "language_info": {
   "codemirror_mode": {
    "name": "ipython",
    "version": 3
   },
   "file_extension": ".py",
   "mimetype": "text/x-python",
   "name": "python",
   "nbconvert_exporter": "python",
   "pygments_lexer": "ipython3",
   "version": "3.11.13"
  }
 },
 "nbformat": 4,
 "nbformat_minor": 5
}